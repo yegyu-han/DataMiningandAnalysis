{
  "nbformat": 4,
  "nbformat_minor": 0,
  "metadata": {
    "colab": {
      "name": "DataMiningAnalysisHW2_3.ipynb",
      "provenance": [],
      "collapsed_sections": [],
      "authorship_tag": "ABX9TyMVTU9a35kijCKKHLpdh3JQ",
      "include_colab_link": true
    },
    "kernelspec": {
      "name": "python3",
      "display_name": "Python 3"
    },
    "language_info": {
      "name": "python"
    },
    "gpuClass": "standard"
  },
  "cells": [
    {
      "cell_type": "markdown",
      "metadata": {
        "id": "view-in-github",
        "colab_type": "text"
      },
      "source": [
        "<a href=\"https://colab.research.google.com/github/yegyu-han/DataMiningandAnalysis/blob/main/DataMiningAnalysisHW2_3.ipynb\" target=\"_parent\"><img src=\"https://colab.research.google.com/assets/colab-badge.svg\" alt=\"Open In Colab\"/></a>"
      ]
    },
    {
      "cell_type": "code",
      "source": [
        "%pip install mlxtend"
      ],
      "metadata": {
        "id": "vko64l9CLtBD"
      },
      "execution_count": null,
      "outputs": []
    },
    {
      "cell_type": "code",
      "source": [
        "pip install mlxtend --upgrade --no-deps"
      ],
      "metadata": {
        "colab": {
          "base_uri": "https://localhost:8080/"
        },
        "id": "MNbq_aTviE-7",
        "outputId": "d3599a31-025a-4b72-9bfb-e1f3ce61ef65"
      },
      "execution_count": 1,
      "outputs": [
        {
          "output_type": "stream",
          "name": "stdout",
          "text": [
            "Looking in indexes: https://pypi.org/simple, https://us-python.pkg.dev/colab-wheels/public/simple/\n",
            "Requirement already satisfied: mlxtend in /usr/local/lib/python3.7/dist-packages (0.20.0)\n"
          ]
        }
      ]
    },
    {
      "cell_type": "code",
      "source": [
        "import numpy as np\n",
        "import pandas as pd\n",
        "from mlxtend.preprocessing import TransactionEncoder\n",
        "from mlxtend.frequent_patterns import apriori\n",
        "from mlxtend.frequent_patterns import fpgrowth\n",
        "from sklearn.cluster import AgglomerativeClustering\n",
        "from sklearn.cluster import KMeans\n",
        "\n",
        "data1 = pd.read_csv('./groceries - groceries.csv')\n",
        "data2 = pd.read_csv('./wine-clustering.csv')\n"
      ],
      "metadata": {
        "id": "Do_m5ggywXgs"
      },
      "execution_count": 2,
      "outputs": []
    },
    {
      "cell_type": "code",
      "source": [
        "# groceries-groceries 자료 변환\n",
        "records = []\n",
        "for i in range(0, len(data1)):\n",
        "    records.append([str(data1.values[i,j]) for j in range(1, data1.values[i, 0]+1)])"
      ],
      "metadata": {
        "id": "JPCLZ4iU-DNv"
      },
      "execution_count": 20,
      "outputs": []
    },
    {
      "cell_type": "code",
      "source": [
        "te = TransactionEncoder()\n",
        "te_ary = te.fit(records).transform(records)\n",
        "df = pd.DataFrame(te_ary, columns=te.columns_)"
      ],
      "metadata": {
        "id": "AfNIYVUc8vVS"
      },
      "execution_count": 21,
      "outputs": []
    },
    {
      "cell_type": "code",
      "source": [
        "#wine-clustering 자료 변환\n",
        "X = data2.values"
      ],
      "metadata": {
        "id": "jIxBvliGg35Z"
      },
      "execution_count": 11,
      "outputs": []
    },
    {
      "cell_type": "code",
      "execution_count": null,
      "metadata": {
        "id": "KkU3DKqEwRy8"
      },
      "outputs": [],
      "source": [
        "def initialscreen():\n",
        "    print(\"[ Student ID: 1810052 ]\")\n",
        "    print(\"[ Name: 한예규 ]\\n\")\n",
        "    print(\"1. Market Basket Analysis\")\n",
        "    print(\"2. Wine Clustering\")\n",
        "    print(\"3. Quit\")\n",
        "\n",
        "def cluster_kmeans(cluster_num):\n",
        "    model = KMeans(n_clusters=cluster_num, random_state=0)\n",
        "    model.fit(X)\n",
        "    print(model.labels_,\"\\n\")\n",
        "\n",
        "def cluster_hier(cluster_num):\n",
        "    model = AgglomerativeClustering(n_clusters= cluster_num)\n",
        "    model.fit(X)\n",
        "    print(model.labels_, \"\\n\")\n",
        "\n",
        "\n",
        "choice=0\n",
        "\n",
        "while (choice!=3):\n",
        "    initialscreen()\n",
        "    choice=int(input(\"> \"))\n",
        "\n",
        "    if (choice==1):\n",
        "        selection=input(\"Select the algorithm ((a)priori or (f)p-growth) : \")\n",
        "        minsup=float(input(\"Enter the minimum support: \"))\n",
        "        if(selection=='a'):\n",
        "            print(apriori(df, min_support=minsup, use_colnames=True),\"\\n\")\n",
        "\n",
        "        elif(selection=='f'):\n",
        "            print(fpgrowth(df, min_support=minsup, use_colnames=True),\"\\n\")\n",
        "        \n",
        "\n",
        "    elif(choice==2):\n",
        "        selection=input(\"Select the algorithm ((k)-means or (h)ierarchical) : \")\n",
        "        cluster_num=int(input(\"Input the number of clusters: \"))\n",
        "        if(selection=='h'):\n",
        "            cluster_hier(cluster_num)\n",
        "\n",
        "        elif(selection=='k'):\n",
        "            cluster_kmeans(cluster_num)\n"
      ]
    }
  ]
}