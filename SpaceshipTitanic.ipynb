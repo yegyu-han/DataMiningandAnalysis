{
  "nbformat": 4,
  "nbformat_minor": 0,
  "metadata": {
    "colab": {
      "name": "SpaceshipTitanic.ipynb",
      "provenance": [],
      "collapsed_sections": [],
      "authorship_tag": "ABX9TyOw1qyL2DHRO7e3QtsIb+KH",
      "include_colab_link": true
    },
    "kernelspec": {
      "name": "python3",
      "display_name": "Python 3"
    },
    "language_info": {
      "name": "python"
    }
  },
  "cells": [
    {
      "cell_type": "markdown",
      "metadata": {
        "id": "view-in-github",
        "colab_type": "text"
      },
      "source": [
        "<a href=\"https://colab.research.google.com/github/yegyu-han/SpaceshipTitanic/blob/main/SpaceshipTitanic.ipynb\" target=\"_parent\"><img src=\"https://colab.research.google.com/assets/colab-badge.svg\" alt=\"Open In Colab\"/></a>"
      ]
    },
    {
      "cell_type": "code",
      "execution_count": null,
      "metadata": {
        "id": "GLuaSJTbcu7y"
      },
      "outputs": [],
      "source": [
        "import numpy as np\n",
        "import pandas as pd\n",
        "from sklearn.preprocessing import LabelEncoder\n",
        "from sklearn.ensemble import RandomForestClassifier\n",
        "\n",
        "train_path = 'train.csv'\n",
        "test_path = 'test.csv'\n",
        "train = pd.read_csv(train_path)\n",
        "test = pd.read_csv(test_path)"
      ]
    },
    {
      "cell_type": "code",
      "source": [
        "def fill_missing(df):\n",
        "  lux = ['RoomService', 'FoodCourt', 'ShoppingMall', 'Spa', 'VRDeck']\n",
        "  categorical = ['HomePlanet', 'CryoSleep', 'Destination', 'VIP']\n",
        "\n",
        "  df['Age'] = df['Age'].fillna(df['Age'].mean())\n",
        "  df['VIP'] = df['VIP'].fillna(df['VIP'].mode())\n",
        "\n",
        "  for col in categorical:\n",
        "    most_freq = df[col].value_counts(dropna=True).idxmax()\n",
        "    df[col] = df[col].fillna(most_freq)\n",
        "\n",
        "  for col in lux:\n",
        "    df[col] = df[col].fillna(df.groupby('VIP')[col].transform('median'))\n",
        "\n",
        "  return df;\n",
        "\n",
        "def extract_deck(cabin):\n",
        "  if pd.isna(cabin):\n",
        "    return cabin\n",
        "  else:\n",
        "    return cabin.split('/')[0]\n",
        "\n",
        "def extract_side(cabin):\n",
        "  if pd.isna(cabin):\n",
        "    return cabin\n",
        "  else:\n",
        "    return cabin.split('/')[2]\n",
        "\n",
        "def extract_group(id):\n",
        "  return id.split('_')[0]\n",
        "\n",
        "def find_cabin(df):\n",
        "  df['Group'] = df['PassengerId'].apply(extract_group)\n",
        "  g_cabin = (df.groupby(['Group']+['Cabin']).size()\n",
        "  .to_frame('counts').reset_index()\n",
        "  .sort_values('counts', ascending=False)\n",
        "  .drop_duplicates(subset='Group')).drop(columns='counts')\n",
        "  df.loc[df.Cabin.isnull(), 'Cabin'] = df.Group.map(g_cabin.set_index('Group').Cabin)\n",
        "  return df\n",
        "\n",
        "def fill_cabin(df):\n",
        "  cabin = ['Deck', 'Side']\n",
        "  for col in cabin:\n",
        "    most_freq = df[col].value_counts(dropna=True).idxmax()\n",
        "    df[col] = df[col].fillna(most_freq)\n",
        "  return df\n",
        "\n",
        "def drop_cols(df):\n",
        "  cols = ['PassengerId', 'FoodCourt', 'Cabin', 'RoomService', 'ShoppingMall', 'Spa', 'VRDeck', 'Name','Group']\n",
        "  for column in cols:\n",
        "        df = df.drop(column, axis = 1)\n",
        "  return df\n",
        "  \n",
        "def to_int(df):\n",
        "  df = df.astype({'Age' : 'int'})\n",
        "  df = df.astype({'Luxury' : 'int'})\n",
        "  return df;\n",
        "\n",
        "\n",
        "def data_preproc(df):\n",
        "  df = fill_missing(df)\n",
        "  df = find_cabin(df)\n",
        "  df['Luxury'] = df['FoodCourt'] + df['RoomService'] + df['ShoppingMall'] + df['Spa'] + df['VRDeck']\n",
        "  df['Deck'] = df['Cabin'].apply(extract_deck)\n",
        "  df['Side'] = df['Cabin'].apply(extract_side)\n",
        "  df = fill_cabin(df)\n",
        "  df = to_int(df)\n",
        "  df = drop_cols(df)\n",
        "  return df"
      ],
      "metadata": {
        "id": "qIcZ12zTl-zo"
      },
      "execution_count": null,
      "outputs": []
    },
    {
      "cell_type": "code",
      "source": [
        "train_id = train.loc[:, 'PassengerId']\n",
        "test_id = test.loc[:, 'PassengerId']\n",
        "train_data = data_preproc(train)\n",
        "train_data = train_data.drop('Transported', axis=1)\n",
        "train_target = train.loc[:,'Transported']\n",
        "test_data = data_preproc(test)"
      ],
      "metadata": {
        "id": "2hDjLfabGiRh"
      },
      "execution_count": null,
      "outputs": []
    },
    {
      "cell_type": "code",
      "source": [
        "train.info()"
      ],
      "metadata": {
        "colab": {
          "base_uri": "https://localhost:8080/"
        },
        "id": "9IDxLsJIoZPK",
        "outputId": "e09c1e96-c02e-4d25-a184-a9f589b11921"
      },
      "execution_count": null,
      "outputs": [
        {
          "output_type": "stream",
          "name": "stdout",
          "text": [
            "<class 'pandas.core.frame.DataFrame'>\n",
            "RangeIndex: 8693 entries, 0 to 8692\n",
            "Data columns (total 18 columns):\n",
            " #   Column        Non-Null Count  Dtype  \n",
            "---  ------        --------------  -----  \n",
            " 0   PassengerId   8693 non-null   object \n",
            " 1   HomePlanet    8693 non-null   object \n",
            " 2   CryoSleep     8693 non-null   bool   \n",
            " 3   Cabin         8594 non-null   object \n",
            " 4   Destination   8693 non-null   object \n",
            " 5   Age           8693 non-null   float64\n",
            " 6   VIP           8693 non-null   bool   \n",
            " 7   RoomService   8693 non-null   float64\n",
            " 8   FoodCourt     8693 non-null   float64\n",
            " 9   ShoppingMall  8693 non-null   float64\n",
            " 10  Spa           8693 non-null   float64\n",
            " 11  VRDeck        8693 non-null   float64\n",
            " 12  Name          8493 non-null   object \n",
            " 13  Transported   8693 non-null   bool   \n",
            " 14  Group         8693 non-null   object \n",
            " 15  Luxury        8693 non-null   float64\n",
            " 16  Deck          8693 non-null   object \n",
            " 17  Side          8693 non-null   object \n",
            "dtypes: bool(3), float64(7), object(8)\n",
            "memory usage: 1.0+ MB\n"
          ]
        }
      ]
    },
    {
      "cell_type": "code",
      "source": [
        "categorical = ['HomePlanet', 'CryoSleep', 'Destination', 'VIP', 'Deck', 'Side']\n",
        "le = LabelEncoder()\n",
        "for col in categorical:\n",
        "  le = le.fit(train_data[col])\n",
        "  train_data[col] = le.transform(train[col])\n",
        "  test_data[col] = le.transform(test[col])"
      ],
      "metadata": {
        "id": "B60gpR7lRDcM"
      },
      "execution_count": null,
      "outputs": []
    },
    {
      "cell_type": "code",
      "source": [
        "train_data.info()\n",
        "test_data.info()"
      ],
      "metadata": {
        "colab": {
          "base_uri": "https://localhost:8080/"
        },
        "id": "2Em9Z5-PHMQn",
        "outputId": "6189dc50-029b-410d-82e9-e601906c9580"
      },
      "execution_count": null,
      "outputs": [
        {
          "output_type": "stream",
          "name": "stdout",
          "text": [
            "<class 'pandas.core.frame.DataFrame'>\n",
            "RangeIndex: 8693 entries, 0 to 8692\n",
            "Data columns (total 8 columns):\n",
            " #   Column       Non-Null Count  Dtype\n",
            "---  ------       --------------  -----\n",
            " 0   HomePlanet   8693 non-null   int64\n",
            " 1   CryoSleep    8693 non-null   int64\n",
            " 2   Destination  8693 non-null   int64\n",
            " 3   Age          8693 non-null   int64\n",
            " 4   VIP          8693 non-null   int64\n",
            " 5   Luxury       8693 non-null   int64\n",
            " 6   Deck         8693 non-null   int64\n",
            " 7   Side         8693 non-null   int64\n",
            "dtypes: int64(8)\n",
            "memory usage: 543.4 KB\n",
            "<class 'pandas.core.frame.DataFrame'>\n",
            "RangeIndex: 4277 entries, 0 to 4276\n",
            "Data columns (total 8 columns):\n",
            " #   Column       Non-Null Count  Dtype\n",
            "---  ------       --------------  -----\n",
            " 0   HomePlanet   4277 non-null   int64\n",
            " 1   CryoSleep    4277 non-null   int64\n",
            " 2   Destination  4277 non-null   int64\n",
            " 3   Age          4277 non-null   int64\n",
            " 4   VIP          4277 non-null   int64\n",
            " 5   Luxury       4277 non-null   int64\n",
            " 6   Deck         4277 non-null   int64\n",
            " 7   Side         4277 non-null   int64\n",
            "dtypes: int64(8)\n",
            "memory usage: 267.4 KB\n"
          ]
        }
      ]
    },
    {
      "cell_type": "code",
      "source": [
        "train_target.to_frame().info()"
      ],
      "metadata": {
        "id": "rbZuc3j8J-R6"
      },
      "execution_count": null,
      "outputs": []
    },
    {
      "cell_type": "code",
      "source": [
        "clf = RandomForestClassifier(n_estimators=10)\n",
        "clf = clf.fit(train_data, train_target)\n",
        "pred = pd.Series(clf.predict(test_data))"
      ],
      "metadata": {
        "id": "1ME8k8GZIlIo"
      },
      "execution_count": null,
      "outputs": []
    },
    {
      "cell_type": "code",
      "source": [
        "pred"
      ],
      "metadata": {
        "colab": {
          "base_uri": "https://localhost:8080/"
        },
        "id": "S2LlDGcvURRU",
        "outputId": "fa31a81d-ec64-4682-df92-649ebfe7c071"
      },
      "execution_count": null,
      "outputs": [
        {
          "output_type": "execute_result",
          "data": {
            "text/plain": [
              "0        True\n",
              "1       False\n",
              "2        True\n",
              "3        True\n",
              "4       False\n",
              "        ...  \n",
              "4272     True\n",
              "4273    False\n",
              "4274     True\n",
              "4275    False\n",
              "4276    False\n",
              "Length: 4277, dtype: bool"
            ]
          },
          "metadata": {},
          "execution_count": 232
        }
      ]
    },
    {
      "cell_type": "code",
      "source": [
        "result = pd.DataFrame({\n",
        "    'PassengerId' : test_id,\n",
        "    'Transported' : pred\n",
        "})\n",
        "result.to_csv('1810052.csv', index=False)"
      ],
      "metadata": {
        "id": "DPnWa0BnUA5l"
      },
      "execution_count": null,
      "outputs": []
    },
    {
      "cell_type": "markdown",
      "source": [
        ""
      ],
      "metadata": {
        "id": "eqgVRFUL3na1"
      }
    }
  ]
}